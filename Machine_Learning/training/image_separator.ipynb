{
 "cells": [
  {
   "cell_type": "code",
   "execution_count": 1,
   "metadata": {},
   "outputs": [],
   "source": [
    "#Used to split large images into more useful smaller images\n",
    "\n",
    "from PIL import Image\n",
    "from pillow_heif import register_heif_opener\n",
    "import os\n",
    "\n",
    "register_heif_opener()"
   ]
  },
  {
   "cell_type": "code",
   "execution_count": 2,
   "metadata": {},
   "outputs": [],
   "source": [
    "def separate_images(input_folder, output_folder):\n",
    "    # Create the output folder if it doesn't exist\n",
    "    if not os.path.exists(output_folder):\n",
    "        os.makedirs(output_folder)\n",
    "\n",
    "    # Get a list of all image files in the input folder\n",
    "    image_files = [f for f in os.listdir(input_folder) if os.path.isfile(os.path.join(input_folder, f))]\n",
    "\n",
    "    # Process each image file\n",
    "    for file_name in image_files:\n",
    "        # Open the image file\n",
    "        input_path = os.path.join(input_folder, file_name)\n",
    "        image = Image.open(input_path)\n",
    "\n",
    "        # Get the dimensions of the image\n",
    "        width, height = image.size\n",
    "\n",
    "        # Calculate the width and height of each sub-image\n",
    "        sub_width = width // 2\n",
    "        sub_height = height // 2\n",
    "\n",
    "        # Separate the image into four sub-images\n",
    "        sub_images = [\n",
    "            image.crop((0, 0, sub_width, sub_height)),\n",
    "            image.crop((sub_width, 0, width, sub_height)),\n",
    "            image.crop((0, sub_height, sub_width, height)),\n",
    "            image.crop((sub_width, sub_height, width, height))\n",
    "        ]\n",
    "\n",
    "        # Save each sub-image to the output folder\n",
    "        base_name = os.path.splitext(file_name)[0]\n",
    "        for i, sub_image in enumerate(sub_images):\n",
    "            output_file = os.path.join(output_folder, f\"{base_name}_{i+1}.png\")\n",
    "            sub_image.save(output_file)\n",
    "\n",
    "        # Close the image\n",
    "        image.close()"
   ]
  },
  {
   "cell_type": "code",
   "execution_count": 3,
   "metadata": {},
   "outputs": [],
   "source": [
    "# Usage example\n",
    "input_folder = \"C:\\\\Users\\\\lucas\\\\Documents\\\\MiniFRC9Images\\\\Non-cube\"\n",
    "output_folder = \"C:\\\\Users\\\\lucas\\\\Documents\\\\MiniFRC9Images\\\\Unsorted\"\n",
    "separate_images(input_folder, output_folder)"
   ]
  }
 ],
 "metadata": {
  "kernelspec": {
   "display_name": "Python 3",
   "language": "python",
   "name": "python3"
  },
  "language_info": {
   "codemirror_mode": {
    "name": "ipython",
    "version": 3
   },
   "file_extension": ".py",
   "mimetype": "text/x-python",
   "name": "python",
   "nbconvert_exporter": "python",
   "pygments_lexer": "ipython3",
   "version": "3.9.6"
  },
  "orig_nbformat": 4
 },
 "nbformat": 4,
 "nbformat_minor": 2
}
